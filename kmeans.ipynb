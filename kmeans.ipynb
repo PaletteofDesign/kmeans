{
  "nbformat": 4,
  "nbformat_minor": 0,
  "metadata": {
    "colab": {
      "name": "kmeans.ipynb",
      "provenance": [],
      "collapsed_sections": [],
      "authorship_tag": "ABX9TyNFHE1HNVI1bzv06KBnAkXO",
      "include_colab_link": true
    },
    "kernelspec": {
      "name": "python3",
      "display_name": "Python 3"
    },
    "language_info": {
      "name": "python"
    }
  },
  "cells": [
    {
      "cell_type": "markdown",
      "metadata": {
        "id": "view-in-github",
        "colab_type": "text"
      },
      "source": [
        "<a href=\"https://colab.research.google.com/github/PaletteofDesign/kmeans/blob/main/kmeans.ipynb\" target=\"_parent\"><img src=\"https://colab.research.google.com/assets/colab-badge.svg\" alt=\"Open In Colab\"/></a>"
      ]
    },
    {
      "cell_type": "code",
      "metadata": {
        "colab": {
          "base_uri": "https://localhost:8080/"
        },
        "id": "K8ea3W4Prg3S",
        "outputId": "b9ab373d-6148-4864-dd66-729410922c31"
      },
      "source": [
        "from google.colab import drive\n",
        "drive.mount('/content/drive')"
      ],
      "execution_count": 1,
      "outputs": [
        {
          "output_type": "stream",
          "name": "stdout",
          "text": [
            "Drive already mounted at /content/drive; to attempt to forcibly remount, call drive.mount(\"/content/drive\", force_remount=True).\n"
          ]
        }
      ]
    },
    {
      "cell_type": "code",
      "metadata": {
        "id": "trdrPd_ArwRW"
      },
      "source": [
        "import numpy as np\n",
        "import pandas as pd\n",
        "import matplotlib.pyplot as plt\n",
        "from sklearn.preprocessing import StandardScaler\n",
        "from sklearn.cluster import KMeans"
      ],
      "execution_count": 2,
      "outputs": []
    },
    {
      "cell_type": "code",
      "metadata": {
        "colab": {
          "base_uri": "https://localhost:8080/",
          "height": 206
        },
        "id": "6jxE1HEbBD6K",
        "outputId": "d5343b29-090e-4402-dcf8-3e22e87f6934"
      },
      "source": [
        "f = '/content/cust_seg.csv'\n",
        "df = pd.read_csv(f)\n",
        "df.head()"
      ],
      "execution_count": 3,
      "outputs": [
        {
          "output_type": "execute_result",
          "data": {
            "text/html": [
              "<div>\n",
              "<style scoped>\n",
              "    .dataframe tbody tr th:only-of-type {\n",
              "        vertical-align: middle;\n",
              "    }\n",
              "\n",
              "    .dataframe tbody tr th {\n",
              "        vertical-align: top;\n",
              "    }\n",
              "\n",
              "    .dataframe thead th {\n",
              "        text-align: right;\n",
              "    }\n",
              "</style>\n",
              "<table border=\"1\" class=\"dataframe\">\n",
              "  <thead>\n",
              "    <tr style=\"text-align: right;\">\n",
              "      <th></th>\n",
              "      <th>Unnamed: 0</th>\n",
              "      <th>Customer Id</th>\n",
              "      <th>Age</th>\n",
              "      <th>Edu</th>\n",
              "      <th>Years Employed</th>\n",
              "      <th>Income</th>\n",
              "      <th>Card Debt</th>\n",
              "      <th>Other Debt</th>\n",
              "      <th>Defaulted</th>\n",
              "      <th>DebtIncomeRatio</th>\n",
              "    </tr>\n",
              "  </thead>\n",
              "  <tbody>\n",
              "    <tr>\n",
              "      <th>0</th>\n",
              "      <td>0</td>\n",
              "      <td>1</td>\n",
              "      <td>41</td>\n",
              "      <td>2</td>\n",
              "      <td>6</td>\n",
              "      <td>19</td>\n",
              "      <td>0.124</td>\n",
              "      <td>1.073</td>\n",
              "      <td>0.0</td>\n",
              "      <td>6.3</td>\n",
              "    </tr>\n",
              "    <tr>\n",
              "      <th>1</th>\n",
              "      <td>1</td>\n",
              "      <td>2</td>\n",
              "      <td>47</td>\n",
              "      <td>1</td>\n",
              "      <td>26</td>\n",
              "      <td>100</td>\n",
              "      <td>4.582</td>\n",
              "      <td>8.218</td>\n",
              "      <td>0.0</td>\n",
              "      <td>12.8</td>\n",
              "    </tr>\n",
              "    <tr>\n",
              "      <th>2</th>\n",
              "      <td>2</td>\n",
              "      <td>3</td>\n",
              "      <td>33</td>\n",
              "      <td>2</td>\n",
              "      <td>10</td>\n",
              "      <td>57</td>\n",
              "      <td>6.111</td>\n",
              "      <td>5.802</td>\n",
              "      <td>1.0</td>\n",
              "      <td>20.9</td>\n",
              "    </tr>\n",
              "    <tr>\n",
              "      <th>3</th>\n",
              "      <td>3</td>\n",
              "      <td>4</td>\n",
              "      <td>29</td>\n",
              "      <td>2</td>\n",
              "      <td>4</td>\n",
              "      <td>19</td>\n",
              "      <td>0.681</td>\n",
              "      <td>0.516</td>\n",
              "      <td>0.0</td>\n",
              "      <td>6.3</td>\n",
              "    </tr>\n",
              "    <tr>\n",
              "      <th>4</th>\n",
              "      <td>4</td>\n",
              "      <td>5</td>\n",
              "      <td>47</td>\n",
              "      <td>1</td>\n",
              "      <td>31</td>\n",
              "      <td>253</td>\n",
              "      <td>9.308</td>\n",
              "      <td>8.908</td>\n",
              "      <td>0.0</td>\n",
              "      <td>7.2</td>\n",
              "    </tr>\n",
              "  </tbody>\n",
              "</table>\n",
              "</div>"
            ],
            "text/plain": [
              "   Unnamed: 0  Customer Id  Age  ...  Other Debt  Defaulted  DebtIncomeRatio\n",
              "0           0            1   41  ...       1.073        0.0              6.3\n",
              "1           1            2   47  ...       8.218        0.0             12.8\n",
              "2           2            3   33  ...       5.802        1.0             20.9\n",
              "3           3            4   29  ...       0.516        0.0              6.3\n",
              "4           4            5   47  ...       8.908        0.0              7.2\n",
              "\n",
              "[5 rows x 10 columns]"
            ]
          },
          "metadata": {},
          "execution_count": 3
        }
      ]
    },
    {
      "cell_type": "code",
      "metadata": {
        "colab": {
          "base_uri": "https://localhost:8080/",
          "height": 206
        },
        "id": "xDjFYRtMBLGE",
        "outputId": "ec9485f4-ad2c-45f6-d2b4-17afc804e309"
      },
      "source": [
        "df.rename(columns={'Customer Id': 'Customer_ID', 'Years Employed': 'Years_Employed', \n",
        "                   'Card Debt': 'Card_Debt', 'Other Debt': 'Other_Debt', \n",
        "                   'DebtIncomeRatio': 'Debt_Income_Ratio'},inplace=True)\n",
        "df.head()"
      ],
      "execution_count": 4,
      "outputs": [
        {
          "output_type": "execute_result",
          "data": {
            "text/html": [
              "<div>\n",
              "<style scoped>\n",
              "    .dataframe tbody tr th:only-of-type {\n",
              "        vertical-align: middle;\n",
              "    }\n",
              "\n",
              "    .dataframe tbody tr th {\n",
              "        vertical-align: top;\n",
              "    }\n",
              "\n",
              "    .dataframe thead th {\n",
              "        text-align: right;\n",
              "    }\n",
              "</style>\n",
              "<table border=\"1\" class=\"dataframe\">\n",
              "  <thead>\n",
              "    <tr style=\"text-align: right;\">\n",
              "      <th></th>\n",
              "      <th>Unnamed: 0</th>\n",
              "      <th>Customer_ID</th>\n",
              "      <th>Age</th>\n",
              "      <th>Edu</th>\n",
              "      <th>Years_Employed</th>\n",
              "      <th>Income</th>\n",
              "      <th>Card_Debt</th>\n",
              "      <th>Other_Debt</th>\n",
              "      <th>Defaulted</th>\n",
              "      <th>Debt_Income_Ratio</th>\n",
              "    </tr>\n",
              "  </thead>\n",
              "  <tbody>\n",
              "    <tr>\n",
              "      <th>0</th>\n",
              "      <td>0</td>\n",
              "      <td>1</td>\n",
              "      <td>41</td>\n",
              "      <td>2</td>\n",
              "      <td>6</td>\n",
              "      <td>19</td>\n",
              "      <td>0.124</td>\n",
              "      <td>1.073</td>\n",
              "      <td>0.0</td>\n",
              "      <td>6.3</td>\n",
              "    </tr>\n",
              "    <tr>\n",
              "      <th>1</th>\n",
              "      <td>1</td>\n",
              "      <td>2</td>\n",
              "      <td>47</td>\n",
              "      <td>1</td>\n",
              "      <td>26</td>\n",
              "      <td>100</td>\n",
              "      <td>4.582</td>\n",
              "      <td>8.218</td>\n",
              "      <td>0.0</td>\n",
              "      <td>12.8</td>\n",
              "    </tr>\n",
              "    <tr>\n",
              "      <th>2</th>\n",
              "      <td>2</td>\n",
              "      <td>3</td>\n",
              "      <td>33</td>\n",
              "      <td>2</td>\n",
              "      <td>10</td>\n",
              "      <td>57</td>\n",
              "      <td>6.111</td>\n",
              "      <td>5.802</td>\n",
              "      <td>1.0</td>\n",
              "      <td>20.9</td>\n",
              "    </tr>\n",
              "    <tr>\n",
              "      <th>3</th>\n",
              "      <td>3</td>\n",
              "      <td>4</td>\n",
              "      <td>29</td>\n",
              "      <td>2</td>\n",
              "      <td>4</td>\n",
              "      <td>19</td>\n",
              "      <td>0.681</td>\n",
              "      <td>0.516</td>\n",
              "      <td>0.0</td>\n",
              "      <td>6.3</td>\n",
              "    </tr>\n",
              "    <tr>\n",
              "      <th>4</th>\n",
              "      <td>4</td>\n",
              "      <td>5</td>\n",
              "      <td>47</td>\n",
              "      <td>1</td>\n",
              "      <td>31</td>\n",
              "      <td>253</td>\n",
              "      <td>9.308</td>\n",
              "      <td>8.908</td>\n",
              "      <td>0.0</td>\n",
              "      <td>7.2</td>\n",
              "    </tr>\n",
              "  </tbody>\n",
              "</table>\n",
              "</div>"
            ],
            "text/plain": [
              "   Unnamed: 0  Customer_ID  Age  ...  Other_Debt  Defaulted  Debt_Income_Ratio\n",
              "0           0            1   41  ...       1.073        0.0                6.3\n",
              "1           1            2   47  ...       8.218        0.0               12.8\n",
              "2           2            3   33  ...       5.802        1.0               20.9\n",
              "3           3            4   29  ...       0.516        0.0                6.3\n",
              "4           4            5   47  ...       8.908        0.0                7.2\n",
              "\n",
              "[5 rows x 10 columns]"
            ]
          },
          "metadata": {},
          "execution_count": 4
        }
      ]
    },
    {
      "cell_type": "code",
      "metadata": {
        "colab": {
          "base_uri": "https://localhost:8080/",
          "height": 206
        },
        "id": "unr7-OrdBa-Y",
        "outputId": "3100c225-0ebb-4b16-9189-8465d4667ca6"
      },
      "source": [
        "df.drop(columns='Unnamed: 0',inplace=True)\n",
        "df.head()"
      ],
      "execution_count": 5,
      "outputs": [
        {
          "output_type": "execute_result",
          "data": {
            "text/html": [
              "<div>\n",
              "<style scoped>\n",
              "    .dataframe tbody tr th:only-of-type {\n",
              "        vertical-align: middle;\n",
              "    }\n",
              "\n",
              "    .dataframe tbody tr th {\n",
              "        vertical-align: top;\n",
              "    }\n",
              "\n",
              "    .dataframe thead th {\n",
              "        text-align: right;\n",
              "    }\n",
              "</style>\n",
              "<table border=\"1\" class=\"dataframe\">\n",
              "  <thead>\n",
              "    <tr style=\"text-align: right;\">\n",
              "      <th></th>\n",
              "      <th>Customer_ID</th>\n",
              "      <th>Age</th>\n",
              "      <th>Edu</th>\n",
              "      <th>Years_Employed</th>\n",
              "      <th>Income</th>\n",
              "      <th>Card_Debt</th>\n",
              "      <th>Other_Debt</th>\n",
              "      <th>Defaulted</th>\n",
              "      <th>Debt_Income_Ratio</th>\n",
              "    </tr>\n",
              "  </thead>\n",
              "  <tbody>\n",
              "    <tr>\n",
              "      <th>0</th>\n",
              "      <td>1</td>\n",
              "      <td>41</td>\n",
              "      <td>2</td>\n",
              "      <td>6</td>\n",
              "      <td>19</td>\n",
              "      <td>0.124</td>\n",
              "      <td>1.073</td>\n",
              "      <td>0.0</td>\n",
              "      <td>6.3</td>\n",
              "    </tr>\n",
              "    <tr>\n",
              "      <th>1</th>\n",
              "      <td>2</td>\n",
              "      <td>47</td>\n",
              "      <td>1</td>\n",
              "      <td>26</td>\n",
              "      <td>100</td>\n",
              "      <td>4.582</td>\n",
              "      <td>8.218</td>\n",
              "      <td>0.0</td>\n",
              "      <td>12.8</td>\n",
              "    </tr>\n",
              "    <tr>\n",
              "      <th>2</th>\n",
              "      <td>3</td>\n",
              "      <td>33</td>\n",
              "      <td>2</td>\n",
              "      <td>10</td>\n",
              "      <td>57</td>\n",
              "      <td>6.111</td>\n",
              "      <td>5.802</td>\n",
              "      <td>1.0</td>\n",
              "      <td>20.9</td>\n",
              "    </tr>\n",
              "    <tr>\n",
              "      <th>3</th>\n",
              "      <td>4</td>\n",
              "      <td>29</td>\n",
              "      <td>2</td>\n",
              "      <td>4</td>\n",
              "      <td>19</td>\n",
              "      <td>0.681</td>\n",
              "      <td>0.516</td>\n",
              "      <td>0.0</td>\n",
              "      <td>6.3</td>\n",
              "    </tr>\n",
              "    <tr>\n",
              "      <th>4</th>\n",
              "      <td>5</td>\n",
              "      <td>47</td>\n",
              "      <td>1</td>\n",
              "      <td>31</td>\n",
              "      <td>253</td>\n",
              "      <td>9.308</td>\n",
              "      <td>8.908</td>\n",
              "      <td>0.0</td>\n",
              "      <td>7.2</td>\n",
              "    </tr>\n",
              "  </tbody>\n",
              "</table>\n",
              "</div>"
            ],
            "text/plain": [
              "   Customer_ID  Age  Edu  ...  Other_Debt  Defaulted  Debt_Income_Ratio\n",
              "0            1   41    2  ...       1.073        0.0                6.3\n",
              "1            2   47    1  ...       8.218        0.0               12.8\n",
              "2            3   33    2  ...       5.802        1.0               20.9\n",
              "3            4   29    2  ...       0.516        0.0                6.3\n",
              "4            5   47    1  ...       8.908        0.0                7.2\n",
              "\n",
              "[5 rows x 9 columns]"
            ]
          },
          "metadata": {},
          "execution_count": 5
        }
      ]
    },
    {
      "cell_type": "code",
      "metadata": {
        "id": "aIj_GueOI9xK"
      },
      "source": [
        "df.set_index('Customer_ID',inplace=True)"
      ],
      "execution_count": 6,
      "outputs": []
    },
    {
      "cell_type": "code",
      "metadata": {
        "colab": {
          "base_uri": "https://localhost:8080/",
          "height": 300
        },
        "id": "NYk224gYJbnL",
        "outputId": "591f383f-c98b-40a3-8752-6867e32e8b6d"
      },
      "source": [
        "df.describe()"
      ],
      "execution_count": 7,
      "outputs": [
        {
          "output_type": "execute_result",
          "data": {
            "text/html": [
              "<div>\n",
              "<style scoped>\n",
              "    .dataframe tbody tr th:only-of-type {\n",
              "        vertical-align: middle;\n",
              "    }\n",
              "\n",
              "    .dataframe tbody tr th {\n",
              "        vertical-align: top;\n",
              "    }\n",
              "\n",
              "    .dataframe thead th {\n",
              "        text-align: right;\n",
              "    }\n",
              "</style>\n",
              "<table border=\"1\" class=\"dataframe\">\n",
              "  <thead>\n",
              "    <tr style=\"text-align: right;\">\n",
              "      <th></th>\n",
              "      <th>Age</th>\n",
              "      <th>Edu</th>\n",
              "      <th>Years_Employed</th>\n",
              "      <th>Income</th>\n",
              "      <th>Card_Debt</th>\n",
              "      <th>Other_Debt</th>\n",
              "      <th>Defaulted</th>\n",
              "      <th>Debt_Income_Ratio</th>\n",
              "    </tr>\n",
              "  </thead>\n",
              "  <tbody>\n",
              "    <tr>\n",
              "      <th>count</th>\n",
              "      <td>850.000000</td>\n",
              "      <td>850.000000</td>\n",
              "      <td>850.000000</td>\n",
              "      <td>850.000000</td>\n",
              "      <td>850.000000</td>\n",
              "      <td>850.000000</td>\n",
              "      <td>700.000000</td>\n",
              "      <td>850.000000</td>\n",
              "    </tr>\n",
              "    <tr>\n",
              "      <th>mean</th>\n",
              "      <td>35.029412</td>\n",
              "      <td>1.710588</td>\n",
              "      <td>8.565882</td>\n",
              "      <td>46.675294</td>\n",
              "      <td>1.576820</td>\n",
              "      <td>3.078773</td>\n",
              "      <td>0.261429</td>\n",
              "      <td>10.171647</td>\n",
              "    </tr>\n",
              "    <tr>\n",
              "      <th>std</th>\n",
              "      <td>8.041432</td>\n",
              "      <td>0.927784</td>\n",
              "      <td>6.777884</td>\n",
              "      <td>38.543054</td>\n",
              "      <td>2.125843</td>\n",
              "      <td>3.398799</td>\n",
              "      <td>0.439727</td>\n",
              "      <td>6.719441</td>\n",
              "    </tr>\n",
              "    <tr>\n",
              "      <th>min</th>\n",
              "      <td>20.000000</td>\n",
              "      <td>1.000000</td>\n",
              "      <td>0.000000</td>\n",
              "      <td>13.000000</td>\n",
              "      <td>0.012000</td>\n",
              "      <td>0.046000</td>\n",
              "      <td>0.000000</td>\n",
              "      <td>0.100000</td>\n",
              "    </tr>\n",
              "    <tr>\n",
              "      <th>25%</th>\n",
              "      <td>29.000000</td>\n",
              "      <td>1.000000</td>\n",
              "      <td>3.000000</td>\n",
              "      <td>24.000000</td>\n",
              "      <td>0.382500</td>\n",
              "      <td>1.045750</td>\n",
              "      <td>0.000000</td>\n",
              "      <td>5.100000</td>\n",
              "    </tr>\n",
              "    <tr>\n",
              "      <th>50%</th>\n",
              "      <td>34.000000</td>\n",
              "      <td>1.000000</td>\n",
              "      <td>7.000000</td>\n",
              "      <td>35.000000</td>\n",
              "      <td>0.885000</td>\n",
              "      <td>2.003000</td>\n",
              "      <td>0.000000</td>\n",
              "      <td>8.700000</td>\n",
              "    </tr>\n",
              "    <tr>\n",
              "      <th>75%</th>\n",
              "      <td>41.000000</td>\n",
              "      <td>2.000000</td>\n",
              "      <td>13.000000</td>\n",
              "      <td>55.750000</td>\n",
              "      <td>1.898500</td>\n",
              "      <td>3.903250</td>\n",
              "      <td>1.000000</td>\n",
              "      <td>13.800000</td>\n",
              "    </tr>\n",
              "    <tr>\n",
              "      <th>max</th>\n",
              "      <td>56.000000</td>\n",
              "      <td>5.000000</td>\n",
              "      <td>33.000000</td>\n",
              "      <td>446.000000</td>\n",
              "      <td>20.561000</td>\n",
              "      <td>35.197000</td>\n",
              "      <td>1.000000</td>\n",
              "      <td>41.300000</td>\n",
              "    </tr>\n",
              "  </tbody>\n",
              "</table>\n",
              "</div>"
            ],
            "text/plain": [
              "              Age         Edu  ...   Defaulted  Debt_Income_Ratio\n",
              "count  850.000000  850.000000  ...  700.000000         850.000000\n",
              "mean    35.029412    1.710588  ...    0.261429          10.171647\n",
              "std      8.041432    0.927784  ...    0.439727           6.719441\n",
              "min     20.000000    1.000000  ...    0.000000           0.100000\n",
              "25%     29.000000    1.000000  ...    0.000000           5.100000\n",
              "50%     34.000000    1.000000  ...    0.000000           8.700000\n",
              "75%     41.000000    2.000000  ...    1.000000          13.800000\n",
              "max     56.000000    5.000000  ...    1.000000          41.300000\n",
              "\n",
              "[8 rows x 8 columns]"
            ]
          },
          "metadata": {},
          "execution_count": 7
        }
      ]
    },
    {
      "cell_type": "code",
      "metadata": {
        "colab": {
          "base_uri": "https://localhost:8080/"
        },
        "id": "SMSskXL-J-Di",
        "outputId": "12d9a4e2-9cc6-47ef-c866-ae887f54b498"
      },
      "source": [
        "df.nunique()"
      ],
      "execution_count": 8,
      "outputs": [
        {
          "output_type": "execute_result",
          "data": {
            "text/plain": [
              "Age                   37\n",
              "Edu                    5\n",
              "Years_Employed        33\n",
              "Income               129\n",
              "Card_Debt            727\n",
              "Other_Debt           788\n",
              "Defaulted              2\n",
              "Debt_Income_Ratio    245\n",
              "dtype: int64"
            ]
          },
          "metadata": {},
          "execution_count": 8
        }
      ]
    },
    {
      "cell_type": "code",
      "metadata": {
        "colab": {
          "base_uri": "https://localhost:8080/"
        },
        "id": "h7d2e3XWKES3",
        "outputId": "36a2f1c1-95c6-401d-eea3-06c2e3aaada2"
      },
      "source": [
        "df.isnull().sum()"
      ],
      "execution_count": 9,
      "outputs": [
        {
          "output_type": "execute_result",
          "data": {
            "text/plain": [
              "Age                    0\n",
              "Edu                    0\n",
              "Years_Employed         0\n",
              "Income                 0\n",
              "Card_Debt              0\n",
              "Other_Debt             0\n",
              "Defaulted            150\n",
              "Debt_Income_Ratio      0\n",
              "dtype: int64"
            ]
          },
          "metadata": {},
          "execution_count": 9
        }
      ]
    },
    {
      "cell_type": "code",
      "metadata": {
        "colab": {
          "base_uri": "https://localhost:8080/"
        },
        "id": "pyUd8Y6kKI0E",
        "outputId": "504ab068-2b5b-448e-bd2e-14670a42eebb"
      },
      "source": [
        "df.info()"
      ],
      "execution_count": 10,
      "outputs": [
        {
          "output_type": "stream",
          "name": "stdout",
          "text": [
            "<class 'pandas.core.frame.DataFrame'>\n",
            "Int64Index: 850 entries, 1 to 850\n",
            "Data columns (total 8 columns):\n",
            " #   Column             Non-Null Count  Dtype  \n",
            "---  ------             --------------  -----  \n",
            " 0   Age                850 non-null    int64  \n",
            " 1   Edu                850 non-null    int64  \n",
            " 2   Years_Employed     850 non-null    int64  \n",
            " 3   Income             850 non-null    int64  \n",
            " 4   Card_Debt          850 non-null    float64\n",
            " 5   Other_Debt         850 non-null    float64\n",
            " 6   Defaulted          700 non-null    float64\n",
            " 7   Debt_Income_Ratio  850 non-null    float64\n",
            "dtypes: float64(4), int64(4)\n",
            "memory usage: 59.8 KB\n"
          ]
        }
      ]
    },
    {
      "cell_type": "code",
      "metadata": {
        "colab": {
          "base_uri": "https://localhost:8080/",
          "height": 238
        },
        "id": "VIjIFa7bKX7a",
        "outputId": "cbed09ce-c36e-444f-ac2d-48001135be57"
      },
      "source": [
        "zero = df['Defaulted']==0\n",
        "df[zero].head()"
      ],
      "execution_count": 11,
      "outputs": [
        {
          "output_type": "execute_result",
          "data": {
            "text/html": [
              "<div>\n",
              "<style scoped>\n",
              "    .dataframe tbody tr th:only-of-type {\n",
              "        vertical-align: middle;\n",
              "    }\n",
              "\n",
              "    .dataframe tbody tr th {\n",
              "        vertical-align: top;\n",
              "    }\n",
              "\n",
              "    .dataframe thead th {\n",
              "        text-align: right;\n",
              "    }\n",
              "</style>\n",
              "<table border=\"1\" class=\"dataframe\">\n",
              "  <thead>\n",
              "    <tr style=\"text-align: right;\">\n",
              "      <th></th>\n",
              "      <th>Age</th>\n",
              "      <th>Edu</th>\n",
              "      <th>Years_Employed</th>\n",
              "      <th>Income</th>\n",
              "      <th>Card_Debt</th>\n",
              "      <th>Other_Debt</th>\n",
              "      <th>Defaulted</th>\n",
              "      <th>Debt_Income_Ratio</th>\n",
              "    </tr>\n",
              "    <tr>\n",
              "      <th>Customer_ID</th>\n",
              "      <th></th>\n",
              "      <th></th>\n",
              "      <th></th>\n",
              "      <th></th>\n",
              "      <th></th>\n",
              "      <th></th>\n",
              "      <th></th>\n",
              "      <th></th>\n",
              "    </tr>\n",
              "  </thead>\n",
              "  <tbody>\n",
              "    <tr>\n",
              "      <th>1</th>\n",
              "      <td>41</td>\n",
              "      <td>2</td>\n",
              "      <td>6</td>\n",
              "      <td>19</td>\n",
              "      <td>0.124</td>\n",
              "      <td>1.073</td>\n",
              "      <td>0.0</td>\n",
              "      <td>6.3</td>\n",
              "    </tr>\n",
              "    <tr>\n",
              "      <th>2</th>\n",
              "      <td>47</td>\n",
              "      <td>1</td>\n",
              "      <td>26</td>\n",
              "      <td>100</td>\n",
              "      <td>4.582</td>\n",
              "      <td>8.218</td>\n",
              "      <td>0.0</td>\n",
              "      <td>12.8</td>\n",
              "    </tr>\n",
              "    <tr>\n",
              "      <th>4</th>\n",
              "      <td>29</td>\n",
              "      <td>2</td>\n",
              "      <td>4</td>\n",
              "      <td>19</td>\n",
              "      <td>0.681</td>\n",
              "      <td>0.516</td>\n",
              "      <td>0.0</td>\n",
              "      <td>6.3</td>\n",
              "    </tr>\n",
              "    <tr>\n",
              "      <th>5</th>\n",
              "      <td>47</td>\n",
              "      <td>1</td>\n",
              "      <td>31</td>\n",
              "      <td>253</td>\n",
              "      <td>9.308</td>\n",
              "      <td>8.908</td>\n",
              "      <td>0.0</td>\n",
              "      <td>7.2</td>\n",
              "    </tr>\n",
              "    <tr>\n",
              "      <th>7</th>\n",
              "      <td>38</td>\n",
              "      <td>2</td>\n",
              "      <td>4</td>\n",
              "      <td>56</td>\n",
              "      <td>0.442</td>\n",
              "      <td>0.454</td>\n",
              "      <td>0.0</td>\n",
              "      <td>1.6</td>\n",
              "    </tr>\n",
              "  </tbody>\n",
              "</table>\n",
              "</div>"
            ],
            "text/plain": [
              "             Age  Edu  Years_Employed  ...  Other_Debt  Defaulted  Debt_Income_Ratio\n",
              "Customer_ID                            ...                                          \n",
              "1             41    2               6  ...       1.073        0.0                6.3\n",
              "2             47    1              26  ...       8.218        0.0               12.8\n",
              "4             29    2               4  ...       0.516        0.0                6.3\n",
              "5             47    1              31  ...       8.908        0.0                7.2\n",
              "7             38    2               4  ...       0.454        0.0                1.6\n",
              "\n",
              "[5 rows x 8 columns]"
            ]
          },
          "metadata": {},
          "execution_count": 11
        }
      ]
    },
    {
      "cell_type": "code",
      "metadata": {
        "id": "-e-Rg_cOPHvv"
      },
      "source": [
        "df.dropna(inplace=True)"
      ],
      "execution_count": 12,
      "outputs": []
    },
    {
      "cell_type": "code",
      "metadata": {
        "colab": {
          "base_uri": "https://localhost:8080/"
        },
        "id": "ZgMvcOSVPPkl",
        "outputId": "b36f7205-11eb-4e87-e934-2173e8f4250b"
      },
      "source": [
        "df['Defaulted'].value_counts()"
      ],
      "execution_count": 13,
      "outputs": [
        {
          "output_type": "execute_result",
          "data": {
            "text/plain": [
              "0.0    517\n",
              "1.0    183\n",
              "Name: Defaulted, dtype: int64"
            ]
          },
          "metadata": {},
          "execution_count": 13
        }
      ]
    },
    {
      "cell_type": "code",
      "metadata": {
        "colab": {
          "base_uri": "https://localhost:8080/"
        },
        "id": "JlJhP7SwPu_Z",
        "outputId": "1a502c2d-49dc-4257-aea9-2ae1d6f8ce52"
      },
      "source": [
        "df.isna().sum()"
      ],
      "execution_count": 19,
      "outputs": [
        {
          "output_type": "execute_result",
          "data": {
            "text/plain": [
              "Age                  0\n",
              "Edu                  0\n",
              "Years_Employed       0\n",
              "Income               0\n",
              "Card_Debt            0\n",
              "Other_Debt           0\n",
              "Defaulted            0\n",
              "Debt_Income_Ratio    0\n",
              "dtype: int64"
            ]
          },
          "metadata": {},
          "execution_count": 19
        }
      ]
    },
    {
      "cell_type": "code",
      "metadata": {
        "colab": {
          "base_uri": "https://localhost:8080/"
        },
        "id": "P-M3llO0PNoG",
        "outputId": "ba70f2f0-ca4c-4d3e-a08d-050d188fb2d7"
      },
      "source": [
        "df.shape"
      ],
      "execution_count": 14,
      "outputs": [
        {
          "output_type": "execute_result",
          "data": {
            "text/plain": [
              "(700, 8)"
            ]
          },
          "metadata": {},
          "execution_count": 14
        }
      ]
    },
    {
      "cell_type": "code",
      "metadata": {
        "id": "83fub6vnN70-"
      },
      "source": [
        "scaler = StandardScaler()\n",
        "scaled_df = scaler.fit_transform(df)"
      ],
      "execution_count": 15,
      "outputs": []
    },
    {
      "cell_type": "markdown",
      "metadata": {
        "id": "BZqO9JMKMh6r"
      },
      "source": [
        "We will use customer age, education years of employment, income, debt, whether they defaulted, and debt: income ratio to group them into segments."
      ]
    },
    {
      "cell_type": "code",
      "metadata": {
        "colab": {
          "base_uri": "https://localhost:8080/"
        },
        "id": "bWURjcoYNFJN",
        "outputId": "3ed34d84-5184-4f3f-f09c-845d03039ec9"
      },
      "source": [
        "kmeans = KMeans(n_clusters=5)\n",
        "kmeans.fit(scaled_df)"
      ],
      "execution_count": 20,
      "outputs": [
        {
          "output_type": "execute_result",
          "data": {
            "text/plain": [
              "KMeans(algorithm='auto', copy_x=True, init='k-means++', max_iter=300,\n",
              "       n_clusters=5, n_init=10, n_jobs=None, precompute_distances='auto',\n",
              "       random_state=None, tol=0.0001, verbose=0)"
            ]
          },
          "metadata": {},
          "execution_count": 20
        }
      ]
    },
    {
      "cell_type": "code",
      "metadata": {
        "id": "He9NqOfxRV7y"
      },
      "source": [
        "df['cluster'] = kmeans.labels_"
      ],
      "execution_count": 22,
      "outputs": []
    },
    {
      "cell_type": "code",
      "metadata": {
        "colab": {
          "base_uri": "https://localhost:8080/",
          "height": 279
        },
        "id": "NINDVrO6LVeT",
        "outputId": "15b2ab36-37c0-4041-c77e-247e6f4999a2"
      },
      "source": [
        "plt.scatter(df['Age'], df['Income'], c=df['cluster'])\n",
        "plt.xlabel('Age')\n",
        "plt.ylabel('Income');"
      ],
      "execution_count": 24,
      "outputs": [
        {
          "output_type": "display_data",
          "data": {
            "image/png": "[encoded data removed]",
            "text/plain": [
              "<Figure size 432x288 with 1 Axes>"
            ]
          },
          "metadata": {
            "needs_background": "light"
          }
        }
      ]
    },
    {
      "cell_type": "code",
      "metadata": {
        "colab": {
          "base_uri": "https://localhost:8080/",
          "height": 279
        },
        "id": "Srma54igRjKs",
        "outputId": "ef202b67-4a62-4e15-cd81-de05763658af"
      },
      "source": [
        "plt.scatter(df['Years_Employed'], df['Debt_Income_Ratio'], c = df['cluster'])\n",
        "plt.xlabel('Years Employed')\n",
        "plt.ylabel('Debt: Income Ratio');"
      ],
      "execution_count": 26,
      "outputs": [
        {
          "output_type": "display_data",
          "data": {
            "image/png": "[encoded data removed]",
            "text/plain": [
              "<Figure size 432x288 with 1 Axes>"
            ]
          },
          "metadata": {
            "needs_background": "light"
          }
        }
      ]
    },
    {
      "cell_type": "code",
      "metadata": {
        "colab": {
          "base_uri": "https://localhost:8080/"
        },
        "id": "VJF27xLfSZDb",
        "outputId": "dbb67e48-c89c-4e52-f011-f62e6021ef64"
      },
      "source": [
        "df['cluster'].value_counts()"
      ],
      "execution_count": 27,
      "outputs": [
        {
          "output_type": "execute_result",
          "data": {
            "text/plain": [
              "0    286\n",
              "3    152\n",
              "2    150\n",
              "4     80\n",
              "1     32\n",
              "Name: cluster, dtype: int64"
            ]
          },
          "metadata": {},
          "execution_count": 27
        }
      ]
    },
    {
      "cell_type": "code",
      "metadata": {
        "id": "XWmm0AAUSoLR"
      },
      "source": [
        "seg1 = df[df['cluster'] == 0]\n",
        "seg2 = df[df['cluster'] == 1]\n",
        "seg3 = df[df['cluster'] == 2]\n",
        "seg4 = df[df['cluster'] == 3]\n",
        "seg5 = df[df['cluster'] == 4]"
      ],
      "execution_count": 28,
      "outputs": []
    },
    {
      "cell_type": "code",
      "metadata": {
        "colab": {
          "base_uri": "https://localhost:8080/"
        },
        "id": "XtK-rW-US8PC",
        "outputId": "830f3d2f-20c0-4caf-89be-bb7df687f3da"
      },
      "source": [
        "cust_segs = [seg1, seg2, seg3, seg4, seg5]\n",
        "for segment in cust_segs:\n",
        "  print(segment.describe().T)"
      ],
      "execution_count": 29,
      "outputs": [
        {
          "output_type": "stream",
          "name": "stdout",
          "text": [
            "                   count       mean        std  ...      50%       75%     max\n",
            "Age                286.0  32.272727   6.272951  ...  31.0000  37.00000  50.000\n",
            "Edu                286.0   1.311189   0.463791  ...   1.0000   2.00000   2.000\n",
            "Years_Employed     286.0   6.342657   3.951646  ...   6.0000   9.00000  17.000\n",
            "Income             286.0  30.377622  11.857223  ...  27.5000  36.00000  82.000\n",
            "Card_Debt          286.0   0.665157   0.627726  ...   0.4515   0.88175   3.703\n",
            "Other_Debt         286.0   1.518906   0.996498  ...   1.2825   2.07075   5.960\n",
            "Defaulted          286.0   0.000000   0.000000  ...   0.0000   0.00000   0.000\n",
            "Debt_Income_Ratio  286.0   7.643706   4.792964  ...   6.6500  10.10000  23.800\n",
            "cluster            286.0   0.000000   0.000000  ...   0.0000   0.00000   0.000\n",
            "\n",
            "[9 rows x 8 columns]\n",
            "                   count        mean        std  ...       50%        75%      max\n",
            "Age                 32.0   43.125000   6.524149  ...   41.0000   47.25000   54.000\n",
            "Edu                 32.0    2.343750   1.153099  ...    2.0000    3.00000    5.000\n",
            "Years_Employed      32.0   17.187500   7.863503  ...   17.5000   21.25000   31.000\n",
            "Income              32.0  133.062500  83.682170  ...  110.0000  168.50000  446.000\n",
            "Card_Debt           32.0    7.995750   4.706821  ...    7.1345    9.66925   20.561\n",
            "Other_Debt          32.0   12.884469   5.328054  ...   12.3675   16.79725   27.034\n",
            "Defaulted           32.0    0.593750   0.498991  ...    1.0000    1.00000    1.000\n",
            "Debt_Income_Ratio   32.0   19.612500   9.054236  ...   18.2500   25.60000   41.300\n",
            "cluster             32.0    1.000000   0.000000  ...    1.0000    1.00000    1.000\n",
            "\n",
            "[9 rows x 8 columns]\n",
            "                   count       mean        std  ...      50%       75%     max\n",
            "Age                150.0  31.753333   7.978105  ...  29.5000  36.00000  55.000\n",
            "Edu                150.0   1.693333   0.759253  ...   2.0000   2.00000   4.000\n",
            "Years_Employed     150.0   4.013333   3.669184  ...   3.0000   6.00000  15.000\n",
            "Income             150.0  30.360000  14.301302  ...  27.0000  38.50000  94.000\n",
            "Card_Debt          150.0   1.638233   1.463537  ...   1.2095   2.25000   6.912\n",
            "Other_Debt         150.0   2.829527   2.168891  ...   2.3585   3.80075  10.754\n",
            "Defaulted          150.0   0.986667   0.115082  ...   1.0000   1.00000   1.000\n",
            "Debt_Income_Ratio  150.0  14.460667   7.286826  ...  13.8000  19.12500  35.300\n",
            "cluster            150.0   2.000000   0.000000  ...   2.0000   2.00000   2.000\n",
            "\n",
            "[9 rows x 8 columns]\n",
            "                   count       mean        std  ...      50%       75%      max\n",
            "Age                152.0  41.697368   5.930100  ...  41.0000  46.00000   56.000\n",
            "Edu                152.0   1.473684   0.680352  ...   1.0000   2.00000    4.000\n",
            "Years_Employed     152.0  16.500000   4.829545  ...  16.0000  19.00000   30.000\n",
            "Income             152.0  72.769737  31.665777  ...  66.0000  89.00000  242.000\n",
            "Card_Debt          152.0   2.100941   1.480076  ...   1.6520   3.00425    6.589\n",
            "Other_Debt         152.0   4.465230   2.922749  ...   4.0565   6.03000   12.714\n",
            "Defaulted          152.0   0.013158   0.114327  ...   0.0000   0.00000    1.000\n",
            "Debt_Income_Ratio  152.0   9.995395   6.091926  ...   9.1000  13.85000   32.500\n",
            "cluster            152.0   3.000000   0.000000  ...   3.0000   3.00000    3.000\n",
            "\n",
            "[9 rows x 8 columns]\n",
            "                   count       mean        std  ...      50%       75%      max\n",
            "Age                 80.0  33.637500   7.634439  ...  34.0000  38.00000   53.000\n",
            "Edu                 80.0   3.475000   0.594809  ...   3.0000   4.00000    5.000\n",
            "Years_Employed      80.0   4.975000   4.517126  ...   4.0000   9.00000   15.000\n",
            "Income              80.0  42.000000  24.946525  ...  34.5000  47.75000  177.000\n",
            "Card_Debt           80.0   0.953987   0.835169  ...   0.7255   1.42050    4.936\n",
            "Other_Debt          80.0   2.386037   1.911263  ...   1.7375   3.34425    9.555\n",
            "Defaulted           80.0   0.175000   0.382364  ...   0.0000   0.00000    1.000\n",
            "Debt_Income_Ratio   80.0   8.503750   5.414828  ...   7.2000  11.20000   24.600\n",
            "cluster             80.0   4.000000   0.000000  ...   4.0000   4.00000    4.000\n",
            "\n",
            "[9 rows x 8 columns]\n"
          ]
        }
      ]
    },
    {
      "cell_type": "code",
      "metadata": {
        "id": "vQ3ydfaBTCKH"
      },
      "source": [
        "age_means = [np.mean(segment['Age']) for segment in cust_segs]\n",
        "income_means = [np.mean(segment['Income']) for segment in cust_segs]\n",
        "debtincomeratio_means = [np.mean(segment['Debt_Income_Ratio']) for segment in cust_segs]"
      ],
      "execution_count": 31,
      "outputs": []
    },
    {
      "cell_type": "code",
      "metadata": {
        "id": "yc5KrBhDTJbb"
      },
      "source": [
        "summary_df = pd.DataFrame({'Cust Segment': ['seg1', 'seg2', 'seg3', 'seg4', 'seg5'], 'Age Means': age_means, \n",
        "                           'Income Means': income_means, 'DebtIncomeRatio Means': debtincomeratio_means})"
      ],
      "execution_count": 32,
      "outputs": []
    },
    {
      "cell_type": "code",
      "metadata": {
        "colab": {
          "base_uri": "https://localhost:8080/",
          "height": 386
        },
        "id": "m0ricUKrTSw2",
        "outputId": "eeda2b83-f27a-4060-eedf-bc49621abb3e"
      },
      "source": [
        "plt.style.use('seaborn')\n",
        "plt.bar(summary_df['Cust Segment'], summary_df['Age Means'], color='orange')\n",
        "plt.xlabel('Age', labelpad=10)\n",
        "plt.title('Mean Ages', pad=10);"
      ],
      "execution_count": 48,
      "outputs": [
        {
          "output_type": "display_data",
          "data": {
            "image/png": "[encoded data removed]",
            "text/plain": [
              "<Figure size 576x396 with 1 Axes>"
            ]
          },
          "metadata": {}
        }
      ]
    },
    {
      "cell_type": "markdown",
      "metadata": {
        "id": "qNWq-zAcWsc_"
      },
      "source": [
        "Seg 2 and 4 have the highest mean age. "
      ]
    },
    {
      "cell_type": "code",
      "metadata": {
        "colab": {
          "base_uri": "https://localhost:8080/",
          "height": 366
        },
        "id": "cato1tN1TfSZ",
        "outputId": "70a78739-510f-467d-9fd4-701b14a16579"
      },
      "source": [
        "plt.style.use('seaborn')\n",
        "plt.bar(summary_df['Cust Segment'], summary_df['Income Means'])\n",
        "plt.ylabel('Income', labelpad=10)\n",
        "plt.title('Mean Incomes', pad=10);"
      ],
      "execution_count": 51,
      "outputs": [
        {
          "output_type": "display_data",
          "data": {
            "image/png": "[encoded data removed]",
            "text/plain": [
              "<Figure size 576x396 with 1 Axes>"
            ]
          },
          "metadata": {}
        }
      ]
    },
    {
      "cell_type": "markdown",
      "metadata": {
        "id": "fXyuzmRJWkfZ"
      },
      "source": [
        "Seg 2 has the highest income compared to the rest of the segments."
      ]
    },
    {
      "cell_type": "code",
      "metadata": {
        "colab": {
          "base_uri": "https://localhost:8080/",
          "height": 366
        },
        "id": "gRrcCe8xThyw",
        "outputId": "c7000d5e-76c2-406d-f563-f8a734ca7a5a"
      },
      "source": [
        "plt.style.use('seaborn')\n",
        "plt.bar(summary_df['Cust Segment'], summary_df['DebtIncomeRatio Means'], color='green')\n",
        "plt.ylabel('Debt: Income Ratio', labelpad=10)\n",
        "plt.title('Mean Debt', pad=10);"
      ],
      "execution_count": 53,
      "outputs": [
        {
          "output_type": "display_data",
          "data": {
            "image/png": "[encoded data removed]",
            "text/plain": [
              "<Figure size 576x396 with 1 Axes>"
            ]
          },
          "metadata": {}
        }
      ]
    },
    {
      "cell_type": "markdown",
      "metadata": {
        "id": "3msa_ChcWKYV"
      },
      "source": [
        "Seg 1 and 4 have the lowest debt to income ratio. Seg 2 has the highst debt to income ratio."
      ]
    },
    {
      "cell_type": "code",
      "metadata": {
        "id": "EmvQ8ur_TkQW"
      },
      "source": [
        ""
      ],
      "execution_count": null,
      "outputs": []
    }
  ]
}