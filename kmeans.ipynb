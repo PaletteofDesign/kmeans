{
  "nbformat": 4,
  "nbformat_minor": 0,
  "metadata": {
    "colab": {
      "name": "kmeans.ipynb",
      "provenance": [],
      "collapsed_sections": [],
      "authorship_tag": "ABX9TyOWrkncfQBv8UJ1ahAzCbwO",
      "include_colab_link": true
    },
    "kernelspec": {
      "name": "python3",
      "display_name": "Python 3"
    },
    "language_info": {
      "name": "python"
    }
  },
  "cells": [
    {
      "cell_type": "markdown",
      "metadata": {
        "id": "view-in-github",
        "colab_type": "text"
      },
      "source": [
        "<a href=\"https://colab.research.google.com/github/PaletteofDesign/kmeans/blob/main/kmeans.ipynb\" target=\"_parent\"><img src=\"https://colab.research.google.com/assets/colab-badge.svg\" alt=\"Open In Colab\"/></a>"
      ]
    },
    {
      "cell_type": "code",
      "metadata": {
        "colab": {
          "base_uri": "https://localhost:8080/"
        },
        "id": "K8ea3W4Prg3S",
        "outputId": "97b9259c-0e39-4fb3-cbae-77a77498124b"
      },
      "source": [
        "from google.colab import drive\n",
        "drive.mount('/content/drive')"
      ],
      "execution_count": 1,
      "outputs": [
        {
          "output_type": "stream",
          "name": "stdout",
          "text": [
            "Drive already mounted at /content/drive; to attempt to forcibly remount, call drive.mount(\"/content/drive\", force_remount=True).\n"
          ]
        }
      ]
    },
    {
      "cell_type": "code",
      "metadata": {
        "id": "trdrPd_ArwRW"
      },
      "source": [
        "import numpy as np\n",
        "import pandas as pd\n",
        "import matplotlib.pyplot as plt\n",
        "from sklearn.preprocessing import StandardScaler\n",
        "from sklearn.cluster import KMeans"
      ],
      "execution_count": 2,
      "outputs": []
    },
    {
      "cell_type": "code",
      "metadata": {
        "colab": {
          "base_uri": "https://localhost:8080/",
          "height": 206
        },
        "id": "6jxE1HEbBD6K",
        "outputId": "9c1bd7c3-3302-46d0-bd00-fc78aa774ed8"
      },
      "source": [
        "f = '/content/cust_seg.csv'\n",
        "df = pd.read_csv(f)\n",
        "df.head()"
      ],
      "execution_count": 3,
      "outputs": [
        {
          "output_type": "execute_result",
          "data": {
            "text/html": [
              "<div>\n",
              "<style scoped>\n",
              "    .dataframe tbody tr th:only-of-type {\n",
              "        vertical-align: middle;\n",
              "    }\n",
              "\n",
              "    .dataframe tbody tr th {\n",
              "        vertical-align: top;\n",
              "    }\n",
              "\n",
              "    .dataframe thead th {\n",
              "        text-align: right;\n",
              "    }\n",
              "</style>\n",
              "<table border=\"1\" class=\"dataframe\">\n",
              "  <thead>\n",
              "    <tr style=\"text-align: right;\">\n",
              "      <th></th>\n",
              "      <th>Unnamed: 0</th>\n",
              "      <th>Customer Id</th>\n",
              "      <th>Age</th>\n",
              "      <th>Edu</th>\n",
              "      <th>Years Employed</th>\n",
              "      <th>Income</th>\n",
              "      <th>Card Debt</th>\n",
              "      <th>Other Debt</th>\n",
              "      <th>Defaulted</th>\n",
              "      <th>DebtIncomeRatio</th>\n",
              "    </tr>\n",
              "  </thead>\n",
              "  <tbody>\n",
              "    <tr>\n",
              "      <th>0</th>\n",
              "      <td>0</td>\n",
              "      <td>1</td>\n",
              "      <td>41</td>\n",
              "      <td>2</td>\n",
              "      <td>6</td>\n",
              "      <td>19</td>\n",
              "      <td>0.124</td>\n",
              "      <td>1.073</td>\n",
              "      <td>0.0</td>\n",
              "      <td>6.3</td>\n",
              "    </tr>\n",
              "    <tr>\n",
              "      <th>1</th>\n",
              "      <td>1</td>\n",
              "      <td>2</td>\n",
              "      <td>47</td>\n",
              "      <td>1</td>\n",
              "      <td>26</td>\n",
              "      <td>100</td>\n",
              "      <td>4.582</td>\n",
              "      <td>8.218</td>\n",
              "      <td>0.0</td>\n",
              "      <td>12.8</td>\n",
              "    </tr>\n",
              "    <tr>\n",
              "      <th>2</th>\n",
              "      <td>2</td>\n",
              "      <td>3</td>\n",
              "      <td>33</td>\n",
              "      <td>2</td>\n",
              "      <td>10</td>\n",
              "      <td>57</td>\n",
              "      <td>6.111</td>\n",
              "      <td>5.802</td>\n",
              "      <td>1.0</td>\n",
              "      <td>20.9</td>\n",
              "    </tr>\n",
              "    <tr>\n",
              "      <th>3</th>\n",
              "      <td>3</td>\n",
              "      <td>4</td>\n",
              "      <td>29</td>\n",
              "      <td>2</td>\n",
              "      <td>4</td>\n",
              "      <td>19</td>\n",
              "      <td>0.681</td>\n",
              "      <td>0.516</td>\n",
              "      <td>0.0</td>\n",
              "      <td>6.3</td>\n",
              "    </tr>\n",
              "    <tr>\n",
              "      <th>4</th>\n",
              "      <td>4</td>\n",
              "      <td>5</td>\n",
              "      <td>47</td>\n",
              "      <td>1</td>\n",
              "      <td>31</td>\n",
              "      <td>253</td>\n",
              "      <td>9.308</td>\n",
              "      <td>8.908</td>\n",
              "      <td>0.0</td>\n",
              "      <td>7.2</td>\n",
              "    </tr>\n",
              "  </tbody>\n",
              "</table>\n",
              "</div>"
            ],
            "text/plain": [
              "   Unnamed: 0  Customer Id  Age  ...  Other Debt  Defaulted  DebtIncomeRatio\n",
              "0           0            1   41  ...       1.073        0.0              6.3\n",
              "1           1            2   47  ...       8.218        0.0             12.8\n",
              "2           2            3   33  ...       5.802        1.0             20.9\n",
              "3           3            4   29  ...       0.516        0.0              6.3\n",
              "4           4            5   47  ...       8.908        0.0              7.2\n",
              "\n",
              "[5 rows x 10 columns]"
            ]
          },
          "metadata": {},
          "execution_count": 3
        }
      ]
    },
    {
      "cell_type": "code",
      "metadata": {
        "colab": {
          "base_uri": "https://localhost:8080/",
          "height": 206
        },
        "id": "xDjFYRtMBLGE",
        "outputId": "892ee1ac-ed6d-4f77-fe61-53b625b65fc9"
      },
      "source": [
        "df.rename(columns={'Customer Id': 'Customer_ID', 'Years Employed': 'Years_Employed', \n",
        "                   'Card Debt': 'Card_Debt', 'Other Debt': 'Other_Debt', \n",
        "                   'DebtIncomeRatio': 'Debt_Income_Ratio'},inplace=True)\n",
        "df.head()"
      ],
      "execution_count": 4,
      "outputs": [
        {
          "output_type": "execute_result",
          "data": {
            "text/html": [
              "<div>\n",
              "<style scoped>\n",
              "    .dataframe tbody tr th:only-of-type {\n",
              "        vertical-align: middle;\n",
              "    }\n",
              "\n",
              "    .dataframe tbody tr th {\n",
              "        vertical-align: top;\n",
              "    }\n",
              "\n",
              "    .dataframe thead th {\n",
              "        text-align: right;\n",
              "    }\n",
              "</style>\n",
              "<table border=\"1\" class=\"dataframe\">\n",
              "  <thead>\n",
              "    <tr style=\"text-align: right;\">\n",
              "      <th></th>\n",
              "      <th>Unnamed: 0</th>\n",
              "      <th>Customer_ID</th>\n",
              "      <th>Age</th>\n",
              "      <th>Edu</th>\n",
              "      <th>Years_Employed</th>\n",
              "      <th>Income</th>\n",
              "      <th>Card_Debt</th>\n",
              "      <th>Other_Debt</th>\n",
              "      <th>Defaulted</th>\n",
              "      <th>Debt_Income_Ratio</th>\n",
              "    </tr>\n",
              "  </thead>\n",
              "  <tbody>\n",
              "    <tr>\n",
              "      <th>0</th>\n",
              "      <td>0</td>\n",
              "      <td>1</td>\n",
              "      <td>41</td>\n",
              "      <td>2</td>\n",
              "      <td>6</td>\n",
              "      <td>19</td>\n",
              "      <td>0.124</td>\n",
              "      <td>1.073</td>\n",
              "      <td>0.0</td>\n",
              "      <td>6.3</td>\n",
              "    </tr>\n",
              "    <tr>\n",
              "      <th>1</th>\n",
              "      <td>1</td>\n",
              "      <td>2</td>\n",
              "      <td>47</td>\n",
              "      <td>1</td>\n",
              "      <td>26</td>\n",
              "      <td>100</td>\n",
              "      <td>4.582</td>\n",
              "      <td>8.218</td>\n",
              "      <td>0.0</td>\n",
              "      <td>12.8</td>\n",
              "    </tr>\n",
              "    <tr>\n",
              "      <th>2</th>\n",
              "      <td>2</td>\n",
              "      <td>3</td>\n",
              "      <td>33</td>\n",
              "      <td>2</td>\n",
              "      <td>10</td>\n",
              "      <td>57</td>\n",
              "      <td>6.111</td>\n",
              "      <td>5.802</td>\n",
              "      <td>1.0</td>\n",
              "      <td>20.9</td>\n",
              "    </tr>\n",
              "    <tr>\n",
              "      <th>3</th>\n",
              "      <td>3</td>\n",
              "      <td>4</td>\n",
              "      <td>29</td>\n",
              "      <td>2</td>\n",
              "      <td>4</td>\n",
              "      <td>19</td>\n",
              "      <td>0.681</td>\n",
              "      <td>0.516</td>\n",
              "      <td>0.0</td>\n",
              "      <td>6.3</td>\n",
              "    </tr>\n",
              "    <tr>\n",
              "      <th>4</th>\n",
              "      <td>4</td>\n",
              "      <td>5</td>\n",
              "      <td>47</td>\n",
              "      <td>1</td>\n",
              "      <td>31</td>\n",
              "      <td>253</td>\n",
              "      <td>9.308</td>\n",
              "      <td>8.908</td>\n",
              "      <td>0.0</td>\n",
              "      <td>7.2</td>\n",
              "    </tr>\n",
              "  </tbody>\n",
              "</table>\n",
              "</div>"
            ],
            "text/plain": [
              "   Unnamed: 0  Customer_ID  Age  ...  Other_Debt  Defaulted  Debt_Income_Ratio\n",
              "0           0            1   41  ...       1.073        0.0                6.3\n",
              "1           1            2   47  ...       8.218        0.0               12.8\n",
              "2           2            3   33  ...       5.802        1.0               20.9\n",
              "3           3            4   29  ...       0.516        0.0                6.3\n",
              "4           4            5   47  ...       8.908        0.0                7.2\n",
              "\n",
              "[5 rows x 10 columns]"
            ]
          },
          "metadata": {},
          "execution_count": 4
        }
      ]
    },
    {
      "cell_type": "code",
      "metadata": {
        "colab": {
          "base_uri": "https://localhost:8080/",
          "height": 206
        },
        "id": "unr7-OrdBa-Y",
        "outputId": "8ee8482f-0774-4289-8c8d-1d2b972cce3f"
      },
      "source": [
        "df.drop(columns='Unnamed: 0',inplace=True)\n",
        "df.head()"
      ],
      "execution_count": 5,
      "outputs": [
        {
          "output_type": "execute_result",
          "data": {
            "text/html": [
              "<div>\n",
              "<style scoped>\n",
              "    .dataframe tbody tr th:only-of-type {\n",
              "        vertical-align: middle;\n",
              "    }\n",
              "\n",
              "    .dataframe tbody tr th {\n",
              "        vertical-align: top;\n",
              "    }\n",
              "\n",
              "    .dataframe thead th {\n",
              "        text-align: right;\n",
              "    }\n",
              "</style>\n",
              "<table border=\"1\" class=\"dataframe\">\n",
              "  <thead>\n",
              "    <tr style=\"text-align: right;\">\n",
              "      <th></th>\n",
              "      <th>Customer_ID</th>\n",
              "      <th>Age</th>\n",
              "      <th>Edu</th>\n",
              "      <th>Years_Employed</th>\n",
              "      <th>Income</th>\n",
              "      <th>Card_Debt</th>\n",
              "      <th>Other_Debt</th>\n",
              "      <th>Defaulted</th>\n",
              "      <th>Debt_Income_Ratio</th>\n",
              "    </tr>\n",
              "  </thead>\n",
              "  <tbody>\n",
              "    <tr>\n",
              "      <th>0</th>\n",
              "      <td>1</td>\n",
              "      <td>41</td>\n",
              "      <td>2</td>\n",
              "      <td>6</td>\n",
              "      <td>19</td>\n",
              "      <td>0.124</td>\n",
              "      <td>1.073</td>\n",
              "      <td>0.0</td>\n",
              "      <td>6.3</td>\n",
              "    </tr>\n",
              "    <tr>\n",
              "      <th>1</th>\n",
              "      <td>2</td>\n",
              "      <td>47</td>\n",
              "      <td>1</td>\n",
              "      <td>26</td>\n",
              "      <td>100</td>\n",
              "      <td>4.582</td>\n",
              "      <td>8.218</td>\n",
              "      <td>0.0</td>\n",
              "      <td>12.8</td>\n",
              "    </tr>\n",
              "    <tr>\n",
              "      <th>2</th>\n",
              "      <td>3</td>\n",
              "      <td>33</td>\n",
              "      <td>2</td>\n",
              "      <td>10</td>\n",
              "      <td>57</td>\n",
              "      <td>6.111</td>\n",
              "      <td>5.802</td>\n",
              "      <td>1.0</td>\n",
              "      <td>20.9</td>\n",
              "    </tr>\n",
              "    <tr>\n",
              "      <th>3</th>\n",
              "      <td>4</td>\n",
              "      <td>29</td>\n",
              "      <td>2</td>\n",
              "      <td>4</td>\n",
              "      <td>19</td>\n",
              "      <td>0.681</td>\n",
              "      <td>0.516</td>\n",
              "      <td>0.0</td>\n",
              "      <td>6.3</td>\n",
              "    </tr>\n",
              "    <tr>\n",
              "      <th>4</th>\n",
              "      <td>5</td>\n",
              "      <td>47</td>\n",
              "      <td>1</td>\n",
              "      <td>31</td>\n",
              "      <td>253</td>\n",
              "      <td>9.308</td>\n",
              "      <td>8.908</td>\n",
              "      <td>0.0</td>\n",
              "      <td>7.2</td>\n",
              "    </tr>\n",
              "  </tbody>\n",
              "</table>\n",
              "</div>"
            ],
            "text/plain": [
              "   Customer_ID  Age  Edu  ...  Other_Debt  Defaulted  Debt_Income_Ratio\n",
              "0            1   41    2  ...       1.073        0.0                6.3\n",
              "1            2   47    1  ...       8.218        0.0               12.8\n",
              "2            3   33    2  ...       5.802        1.0               20.9\n",
              "3            4   29    2  ...       0.516        0.0                6.3\n",
              "4            5   47    1  ...       8.908        0.0                7.2\n",
              "\n",
              "[5 rows x 9 columns]"
            ]
          },
          "metadata": {},
          "execution_count": 5
        }
      ]
    },
    {
      "cell_type": "code",
      "metadata": {
        "id": "aIj_GueOI9xK"
      },
      "source": [
        "df.set_index('Customer_ID',inplace=True)"
      ],
      "execution_count": 6,
      "outputs": []
    },
    {
      "cell_type": "code",
      "metadata": {
        "colab": {
          "base_uri": "https://localhost:8080/",
          "height": 300
        },
        "id": "NYk224gYJbnL",
        "outputId": "037cec87-696b-4c0d-dce6-e8f464f93a15"
      },
      "source": [
        "df.describe()"
      ],
      "execution_count": 7,
      "outputs": [
        {
          "output_type": "execute_result",
          "data": {
            "text/html": [
              "<div>\n",
              "<style scoped>\n",
              "    .dataframe tbody tr th:only-of-type {\n",
              "        vertical-align: middle;\n",
              "    }\n",
              "\n",
              "    .dataframe tbody tr th {\n",
              "        vertical-align: top;\n",
              "    }\n",
              "\n",
              "    .dataframe thead th {\n",
              "        text-align: right;\n",
              "    }\n",
              "</style>\n",
              "<table border=\"1\" class=\"dataframe\">\n",
              "  <thead>\n",
              "    <tr style=\"text-align: right;\">\n",
              "      <th></th>\n",
              "      <th>Age</th>\n",
              "      <th>Edu</th>\n",
              "      <th>Years_Employed</th>\n",
              "      <th>Income</th>\n",
              "      <th>Card_Debt</th>\n",
              "      <th>Other_Debt</th>\n",
              "      <th>Defaulted</th>\n",
              "      <th>Debt_Income_Ratio</th>\n",
              "    </tr>\n",
              "  </thead>\n",
              "  <tbody>\n",
              "    <tr>\n",
              "      <th>count</th>\n",
              "      <td>850.000000</td>\n",
              "      <td>850.000000</td>\n",
              "      <td>850.000000</td>\n",
              "      <td>850.000000</td>\n",
              "      <td>850.000000</td>\n",
              "      <td>850.000000</td>\n",
              "      <td>700.000000</td>\n",
              "      <td>850.000000</td>\n",
              "    </tr>\n",
              "    <tr>\n",
              "      <th>mean</th>\n",
              "      <td>35.029412</td>\n",
              "      <td>1.710588</td>\n",
              "      <td>8.565882</td>\n",
              "      <td>46.675294</td>\n",
              "      <td>1.576820</td>\n",
              "      <td>3.078773</td>\n",
              "      <td>0.261429</td>\n",
              "      <td>10.171647</td>\n",
              "    </tr>\n",
              "    <tr>\n",
              "      <th>std</th>\n",
              "      <td>8.041432</td>\n",
              "      <td>0.927784</td>\n",
              "      <td>6.777884</td>\n",
              "      <td>38.543054</td>\n",
              "      <td>2.125843</td>\n",
              "      <td>3.398799</td>\n",
              "      <td>0.439727</td>\n",
              "      <td>6.719441</td>\n",
              "    </tr>\n",
              "    <tr>\n",
              "      <th>min</th>\n",
              "      <td>20.000000</td>\n",
              "      <td>1.000000</td>\n",
              "      <td>0.000000</td>\n",
              "      <td>13.000000</td>\n",
              "      <td>0.012000</td>\n",
              "      <td>0.046000</td>\n",
              "      <td>0.000000</td>\n",
              "      <td>0.100000</td>\n",
              "    </tr>\n",
              "    <tr>\n",
              "      <th>25%</th>\n",
              "      <td>29.000000</td>\n",
              "      <td>1.000000</td>\n",
              "      <td>3.000000</td>\n",
              "      <td>24.000000</td>\n",
              "      <td>0.382500</td>\n",
              "      <td>1.045750</td>\n",
              "      <td>0.000000</td>\n",
              "      <td>5.100000</td>\n",
              "    </tr>\n",
              "    <tr>\n",
              "      <th>50%</th>\n",
              "      <td>34.000000</td>\n",
              "      <td>1.000000</td>\n",
              "      <td>7.000000</td>\n",
              "      <td>35.000000</td>\n",
              "      <td>0.885000</td>\n",
              "      <td>2.003000</td>\n",
              "      <td>0.000000</td>\n",
              "      <td>8.700000</td>\n",
              "    </tr>\n",
              "    <tr>\n",
              "      <th>75%</th>\n",
              "      <td>41.000000</td>\n",
              "      <td>2.000000</td>\n",
              "      <td>13.000000</td>\n",
              "      <td>55.750000</td>\n",
              "      <td>1.898500</td>\n",
              "      <td>3.903250</td>\n",
              "      <td>1.000000</td>\n",
              "      <td>13.800000</td>\n",
              "    </tr>\n",
              "    <tr>\n",
              "      <th>max</th>\n",
              "      <td>56.000000</td>\n",
              "      <td>5.000000</td>\n",
              "      <td>33.000000</td>\n",
              "      <td>446.000000</td>\n",
              "      <td>20.561000</td>\n",
              "      <td>35.197000</td>\n",
              "      <td>1.000000</td>\n",
              "      <td>41.300000</td>\n",
              "    </tr>\n",
              "  </tbody>\n",
              "</table>\n",
              "</div>"
            ],
            "text/plain": [
              "              Age         Edu  ...   Defaulted  Debt_Income_Ratio\n",
              "count  850.000000  850.000000  ...  700.000000         850.000000\n",
              "mean    35.029412    1.710588  ...    0.261429          10.171647\n",
              "std      8.041432    0.927784  ...    0.439727           6.719441\n",
              "min     20.000000    1.000000  ...    0.000000           0.100000\n",
              "25%     29.000000    1.000000  ...    0.000000           5.100000\n",
              "50%     34.000000    1.000000  ...    0.000000           8.700000\n",
              "75%     41.000000    2.000000  ...    1.000000          13.800000\n",
              "max     56.000000    5.000000  ...    1.000000          41.300000\n",
              "\n",
              "[8 rows x 8 columns]"
            ]
          },
          "metadata": {},
          "execution_count": 7
        }
      ]
    },
    {
      "cell_type": "code",
      "metadata": {
        "colab": {
          "base_uri": "https://localhost:8080/"
        },
        "id": "SMSskXL-J-Di",
        "outputId": "ab201c96-2b2d-43d4-c584-a8fe709468d0"
      },
      "source": [
        "df.nunique()"
      ],
      "execution_count": 8,
      "outputs": [
        {
          "output_type": "execute_result",
          "data": {
            "text/plain": [
              "Age                   37\n",
              "Edu                    5\n",
              "Years_Employed        33\n",
              "Income               129\n",
              "Card_Debt            727\n",
              "Other_Debt           788\n",
              "Defaulted              2\n",
              "Debt_Income_Ratio    245\n",
              "dtype: int64"
            ]
          },
          "metadata": {},
          "execution_count": 8
        }
      ]
    },
    {
      "cell_type": "code",
      "metadata": {
        "colab": {
          "base_uri": "https://localhost:8080/"
        },
        "id": "h7d2e3XWKES3",
        "outputId": "5b2831cf-9162-4ea0-fa40-af157a3d6860"
      },
      "source": [
        "df.isnull().sum()"
      ],
      "execution_count": 9,
      "outputs": [
        {
          "output_type": "execute_result",
          "data": {
            "text/plain": [
              "Age                    0\n",
              "Edu                    0\n",
              "Years_Employed         0\n",
              "Income                 0\n",
              "Card_Debt              0\n",
              "Other_Debt             0\n",
              "Defaulted            150\n",
              "Debt_Income_Ratio      0\n",
              "dtype: int64"
            ]
          },
          "metadata": {},
          "execution_count": 9
        }
      ]
    },
    {
      "cell_type": "code",
      "metadata": {
        "colab": {
          "base_uri": "https://localhost:8080/"
        },
        "id": "pyUd8Y6kKI0E",
        "outputId": "f3350b42-0302-4877-a66e-21724591b6d8"
      },
      "source": [
        "df.info()"
      ],
      "execution_count": 10,
      "outputs": [
        {
          "output_type": "stream",
          "name": "stdout",
          "text": [
            "<class 'pandas.core.frame.DataFrame'>\n",
            "Int64Index: 850 entries, 1 to 850\n",
            "Data columns (total 8 columns):\n",
            " #   Column             Non-Null Count  Dtype  \n",
            "---  ------             --------------  -----  \n",
            " 0   Age                850 non-null    int64  \n",
            " 1   Edu                850 non-null    int64  \n",
            " 2   Years_Employed     850 non-null    int64  \n",
            " 3   Income             850 non-null    int64  \n",
            " 4   Card_Debt          850 non-null    float64\n",
            " 5   Other_Debt         850 non-null    float64\n",
            " 6   Defaulted          700 non-null    float64\n",
            " 7   Debt_Income_Ratio  850 non-null    float64\n",
            "dtypes: float64(4), int64(4)\n",
            "memory usage: 59.8 KB\n"
          ]
        }
      ]
    },
    {
      "cell_type": "code",
      "metadata": {
        "colab": {
          "base_uri": "https://localhost:8080/",
          "height": 238
        },
        "id": "VIjIFa7bKX7a",
        "outputId": "0460202f-21ae-442a-98ac-91fa81c6fb76"
      },
      "source": [
        "zero = df['Defaulted']==0\n",
        "df[zero].head()"
      ],
      "execution_count": 11,
      "outputs": [
        {
          "output_type": "execute_result",
          "data": {
            "text/html": [
              "<div>\n",
              "<style scoped>\n",
              "    .dataframe tbody tr th:only-of-type {\n",
              "        vertical-align: middle;\n",
              "    }\n",
              "\n",
              "    .dataframe tbody tr th {\n",
              "        vertical-align: top;\n",
              "    }\n",
              "\n",
              "    .dataframe thead th {\n",
              "        text-align: right;\n",
              "    }\n",
              "</style>\n",
              "<table border=\"1\" class=\"dataframe\">\n",
              "  <thead>\n",
              "    <tr style=\"text-align: right;\">\n",
              "      <th></th>\n",
              "      <th>Age</th>\n",
              "      <th>Edu</th>\n",
              "      <th>Years_Employed</th>\n",
              "      <th>Income</th>\n",
              "      <th>Card_Debt</th>\n",
              "      <th>Other_Debt</th>\n",
              "      <th>Defaulted</th>\n",
              "      <th>Debt_Income_Ratio</th>\n",
              "    </tr>\n",
              "    <tr>\n",
              "      <th>Customer_ID</th>\n",
              "      <th></th>\n",
              "      <th></th>\n",
              "      <th></th>\n",
              "      <th></th>\n",
              "      <th></th>\n",
              "      <th></th>\n",
              "      <th></th>\n",
              "      <th></th>\n",
              "    </tr>\n",
              "  </thead>\n",
              "  <tbody>\n",
              "    <tr>\n",
              "      <th>1</th>\n",
              "      <td>41</td>\n",
              "      <td>2</td>\n",
              "      <td>6</td>\n",
              "      <td>19</td>\n",
              "      <td>0.124</td>\n",
              "      <td>1.073</td>\n",
              "      <td>0.0</td>\n",
              "      <td>6.3</td>\n",
              "    </tr>\n",
              "    <tr>\n",
              "      <th>2</th>\n",
              "      <td>47</td>\n",
              "      <td>1</td>\n",
              "      <td>26</td>\n",
              "      <td>100</td>\n",
              "      <td>4.582</td>\n",
              "      <td>8.218</td>\n",
              "      <td>0.0</td>\n",
              "      <td>12.8</td>\n",
              "    </tr>\n",
              "    <tr>\n",
              "      <th>4</th>\n",
              "      <td>29</td>\n",
              "      <td>2</td>\n",
              "      <td>4</td>\n",
              "      <td>19</td>\n",
              "      <td>0.681</td>\n",
              "      <td>0.516</td>\n",
              "      <td>0.0</td>\n",
              "      <td>6.3</td>\n",
              "    </tr>\n",
              "    <tr>\n",
              "      <th>5</th>\n",
              "      <td>47</td>\n",
              "      <td>1</td>\n",
              "      <td>31</td>\n",
              "      <td>253</td>\n",
              "      <td>9.308</td>\n",
              "      <td>8.908</td>\n",
              "      <td>0.0</td>\n",
              "      <td>7.2</td>\n",
              "    </tr>\n",
              "    <tr>\n",
              "      <th>7</th>\n",
              "      <td>38</td>\n",
              "      <td>2</td>\n",
              "      <td>4</td>\n",
              "      <td>56</td>\n",
              "      <td>0.442</td>\n",
              "      <td>0.454</td>\n",
              "      <td>0.0</td>\n",
              "      <td>1.6</td>\n",
              "    </tr>\n",
              "  </tbody>\n",
              "</table>\n",
              "</div>"
            ],
            "text/plain": [
              "             Age  Edu  Years_Employed  ...  Other_Debt  Defaulted  Debt_Income_Ratio\n",
              "Customer_ID                            ...                                          \n",
              "1             41    2               6  ...       1.073        0.0                6.3\n",
              "2             47    1              26  ...       8.218        0.0               12.8\n",
              "4             29    2               4  ...       0.516        0.0                6.3\n",
              "5             47    1              31  ...       8.908        0.0                7.2\n",
              "7             38    2               4  ...       0.454        0.0                1.6\n",
              "\n",
              "[5 rows x 8 columns]"
            ]
          },
          "metadata": {},
          "execution_count": 11
        }
      ]
    },
    {
      "cell_type": "code",
      "metadata": {
        "id": "-e-Rg_cOPHvv"
      },
      "source": [
        "df.dropna(inplace=True)"
      ],
      "execution_count": 12,
      "outputs": []
    },
    {
      "cell_type": "code",
      "metadata": {
        "colab": {
          "base_uri": "https://localhost:8080/"
        },
        "id": "ZgMvcOSVPPkl",
        "outputId": "af3ffcb5-4712-4297-8f20-72a896541eb6"
      },
      "source": [
        "df['Defaulted'].value_counts()"
      ],
      "execution_count": 13,
      "outputs": [
        {
          "output_type": "execute_result",
          "data": {
            "text/plain": [
              "0.0    517\n",
              "1.0    183\n",
              "Name: Defaulted, dtype: int64"
            ]
          },
          "metadata": {},
          "execution_count": 13
        }
      ]
    },
    {
      "cell_type": "code",
      "metadata": {
        "colab": {
          "base_uri": "https://localhost:8080/"
        },
        "id": "JlJhP7SwPu_Z",
        "outputId": "a38d811b-7dd2-4461-aa8d-16bbf66bb047"
      },
      "source": [
        "df.isna().sum()"
      ],
      "execution_count": 14,
      "outputs": [
        {
          "output_type": "execute_result",
          "data": {
            "text/plain": [
              "Age                  0\n",
              "Edu                  0\n",
              "Years_Employed       0\n",
              "Income               0\n",
              "Card_Debt            0\n",
              "Other_Debt           0\n",
              "Defaulted            0\n",
              "Debt_Income_Ratio    0\n",
              "dtype: int64"
            ]
          },
          "metadata": {},
          "execution_count": 14
        }
      ]
    },
    {
      "cell_type": "code",
      "metadata": {
        "colab": {
          "base_uri": "https://localhost:8080/"
        },
        "id": "P-M3llO0PNoG",
        "outputId": "66ea7988-8ef4-472a-cfec-bad1f6ad646a"
      },
      "source": [
        "df.shape"
      ],
      "execution_count": 15,
      "outputs": [
        {
          "output_type": "execute_result",
          "data": {
            "text/plain": [
              "(700, 8)"
            ]
          },
          "metadata": {},
          "execution_count": 15
        }
      ]
    },
    {
      "cell_type": "code",
      "metadata": {
        "id": "83fub6vnN70-"
      },
      "source": [
        "scaler = StandardScaler()\n",
        "scaled_df = scaler.fit_transform(df)"
      ],
      "execution_count": 16,
      "outputs": []
    },
    {
      "cell_type": "markdown",
      "metadata": {
        "id": "BZqO9JMKMh6r"
      },
      "source": [
        "We will use customer age, education years of employment, income, debt, whether they defaulted, and debt: income ratio to group them into segments."
      ]
    },
    {
      "cell_type": "code",
      "metadata": {
        "colab": {
          "base_uri": "https://localhost:8080/"
        },
        "id": "bWURjcoYNFJN",
        "outputId": "c01d69e1-6f47-4ed9-b5e6-26055e4513be"
      },
      "source": [
        "kmeans = KMeans(n_clusters=6)\n",
        "kmeans.fit(scaled_df)"
      ],
      "execution_count": 17,
      "outputs": [
        {
          "output_type": "execute_result",
          "data": {
            "text/plain": [
              "KMeans(algorithm='auto', copy_x=True, init='k-means++', max_iter=300,\n",
              "       n_clusters=6, n_init=10, n_jobs=None, precompute_distances='auto',\n",
              "       random_state=None, tol=0.0001, verbose=0)"
            ]
          },
          "metadata": {},
          "execution_count": 17
        }
      ]
    },
    {
      "cell_type": "code",
      "metadata": {
        "id": "He9NqOfxRV7y"
      },
      "source": [
        "df['cluster'] = kmeans.labels_"
      ],
      "execution_count": 18,
      "outputs": []
    },
    {
      "cell_type": "code",
      "metadata": {
        "colab": {
          "base_uri": "https://localhost:8080/",
          "height": 279
        },
        "id": "NINDVrO6LVeT",
        "outputId": "59d1eb5b-0088-4514-b618-f48231bcfa75"
      },
      "source": [
        "plt.scatter(df['Age'], df['Income'], c=df['cluster'])\n",
        "plt.xlabel('Age')\n",
        "plt.ylabel('Income');"
      ],
      "execution_count": 19,
      "outputs": [
        {
          "output_type": "display_data",
          "data": {
            "image/png": "[encoded data removed]",
            "text/plain": [
              "<Figure size 432x288 with 1 Axes>"
            ]
          },
          "metadata": {
            "needs_background": "light"
          }
        }
      ]
    },
    {
      "cell_type": "code",
      "metadata": {
        "colab": {
          "base_uri": "https://localhost:8080/",
          "height": 279
        },
        "id": "goTCH5TSieuk",
        "outputId": "843afa64-49bc-4218-89f0-b3b07169ff93"
      },
      "source": [
        "plt.scatter(df['Age'], df['Debt_Income_Ratio'], c=df['cluster'])\n",
        "plt.xlabel('Age')\n",
        "plt.ylabel('Debt Income Ratio');"
      ],
      "execution_count": 20,
      "outputs": [
        {
          "output_type": "display_data",
          "data": {
            "image/png": "[encoded data removed]",
            "text/plain": [
              "<Figure size 432x288 with 1 Axes>"
            ]
          },
          "metadata": {
            "needs_background": "light"
          }
        }
      ]
    },
    {
      "cell_type": "code",
      "metadata": {
        "colab": {
          "base_uri": "https://localhost:8080/",
          "height": 279
        },
        "id": "Srma54igRjKs",
        "outputId": "274b5940-5bc4-489d-c5d4-3e648f357ca8"
      },
      "source": [
        "plt.scatter(df['Years_Employed'], df['Debt_Income_Ratio'], c = df['cluster'])\n",
        "plt.xlabel('Years Employed')\n",
        "plt.ylabel('Debt Income Ratio');"
      ],
      "execution_count": 21,
      "outputs": [
        {
          "output_type": "display_data",
          "data": {
            "image/png": "[encoded data removed]",
            "text/plain": [
              "<Figure size 432x288 with 1 Axes>"
            ]
          },
          "metadata": {
            "needs_background": "light"
          }
        }
      ]
    },
    {
      "cell_type": "code",
      "metadata": {
        "colab": {
          "base_uri": "https://localhost:8080/"
        },
        "id": "VJF27xLfSZDb",
        "outputId": "27dfa3dd-7d95-4593-d79f-cd76f31e495c"
      },
      "source": [
        "df['cluster'].value_counts()"
      ],
      "execution_count": 22,
      "outputs": [
        {
          "output_type": "execute_result",
          "data": {
            "text/plain": [
              "5    263\n",
              "4    136\n",
              "3    123\n",
              "1     91\n",
              "0     75\n",
              "2     12\n",
              "Name: cluster, dtype: int64"
            ]
          },
          "metadata": {},
          "execution_count": 22
        }
      ]
    },
    {
      "cell_type": "code",
      "metadata": {
        "id": "XWmm0AAUSoLR"
      },
      "source": [
        "seg1 = df[df['cluster'] == 0]\n",
        "seg2 = df[df['cluster'] == 1]\n",
        "seg3 = df[df['cluster'] == 2]\n",
        "seg4 = df[df['cluster'] == 3]\n",
        "seg5 = df[df['cluster'] == 4]\n",
        "seg6 = df[df['cluster'] == 5]"
      ],
      "execution_count": 23,
      "outputs": []
    },
    {
      "cell_type": "code",
      "metadata": {
        "colab": {
          "base_uri": "https://localhost:8080/"
        },
        "id": "XtK-rW-US8PC",
        "outputId": "9099f56c-d1f0-4c1a-af87-e47fd06a3ae3"
      },
      "source": [
        "cust_segs = [seg1, seg2, seg3, seg4, seg5, seg6]\n",
        "for segment in cust_segs:\n",
        "  print(segment.describe())"
      ],
      "execution_count": 35,
      "outputs": [
        {
          "output_type": "stream",
          "name": "stdout",
          "text": [
            "             Age        Edu  ...  Debt_Income_Ratio  cluster\n",
            "count  75.000000  75.000000  ...          75.000000     75.0\n",
            "mean   33.280000   3.493333  ...           7.916000      0.0\n",
            "std     7.622087   0.601200  ...           4.672722      0.0\n",
            "min    20.000000   3.000000  ...           1.600000      0.0\n",
            "25%    27.000000   3.000000  ...           4.500000      0.0\n",
            "50%    33.000000   3.000000  ...           6.700000      0.0\n",
            "75%    37.500000   4.000000  ...          10.700000      0.0\n",
            "max    53.000000   5.000000  ...          24.200000      0.0\n",
            "\n",
            "[8 rows x 9 columns]\n",
            "             Age        Edu  ...  Debt_Income_Ratio  cluster\n",
            "count  91.000000  91.000000  ...          91.000000     91.0\n",
            "mean   39.725275   1.912088  ...          18.901099      1.0\n",
            "std     6.839535   0.950419  ...           5.937760      0.0\n",
            "min    26.000000   1.000000  ...           7.800000      1.0\n",
            "25%    34.000000   1.000000  ...          14.300000      1.0\n",
            "50%    40.000000   2.000000  ...          18.100000      1.0\n",
            "75%    45.000000   3.000000  ...          22.650000      1.0\n",
            "max    56.000000   5.000000  ...          36.600000      1.0\n",
            "\n",
            "[8 rows x 9 columns]\n",
            "             Age        Edu  ...  Debt_Income_Ratio  cluster\n",
            "count  12.000000  12.000000  ...          12.000000     12.0\n",
            "mean   46.333333   2.250000  ...          16.891667      2.0\n",
            "std     6.257117   1.215431  ...          10.580983      0.0\n",
            "min    33.000000   1.000000  ...           6.500000      2.0\n",
            "25%    42.500000   1.000000  ...           7.775000      2.0\n",
            "50%    47.000000   2.500000  ...          15.200000      2.0\n",
            "75%    51.250000   3.000000  ...          23.650000      2.0\n",
            "max    54.000000   4.000000  ...          41.300000      2.0\n",
            "\n",
            "[8 rows x 9 columns]\n",
            "              Age         Edu  ...  Debt_Income_Ratio  cluster\n",
            "count  123.000000  123.000000  ...         123.000000    123.0\n",
            "mean    41.512195    1.439024  ...           6.219512      3.0\n",
            "std      5.480765    0.667100  ...           3.304658      0.0\n",
            "min     30.000000    1.000000  ...           0.400000      3.0\n",
            "25%     37.500000    1.000000  ...           3.450000      3.0\n",
            "50%     41.000000    1.000000  ...           5.800000      3.0\n",
            "75%     45.000000    2.000000  ...           8.500000      3.0\n",
            "max     54.000000    4.000000  ...          15.400000      3.0\n",
            "\n",
            "[8 rows x 9 columns]\n",
            "              Age         Edu  ...  Debt_Income_Ratio  cluster\n",
            "count  136.000000  136.000000  ...         136.000000    136.0\n",
            "mean    31.477941    1.632353  ...          13.691912      4.0\n",
            "std      8.084706    0.718113  ...           6.947987      0.0\n",
            "min     20.000000    1.000000  ...           0.900000      4.0\n",
            "25%     25.000000    1.000000  ...           8.400000      4.0\n",
            "50%     29.000000    2.000000  ...          13.200000      4.0\n",
            "75%     36.000000    2.000000  ...          17.425000      4.0\n",
            "max     55.000000    4.000000  ...          33.400000      4.0\n",
            "\n",
            "[8 rows x 9 columns]\n",
            "              Age         Edu  ...  Debt_Income_Ratio  cluster\n",
            "count  263.000000  263.000000  ...         263.000000    263.0\n",
            "mean    31.741445    1.307985  ...           7.752471      5.0\n",
            "std      6.116059    0.462540  ...           4.669699      0.0\n",
            "min     21.000000    1.000000  ...           0.600000      5.0\n",
            "25%     27.000000    1.000000  ...           4.400000      5.0\n",
            "50%     31.000000    1.000000  ...           6.800000      5.0\n",
            "75%     36.000000    2.000000  ...          10.250000      5.0\n",
            "max     50.000000    2.000000  ...          23.800000      5.0\n",
            "\n",
            "[8 rows x 9 columns]\n"
          ]
        }
      ]
    },
    {
      "cell_type": "code",
      "metadata": {
        "id": "vQ3ydfaBTCKH"
      },
      "source": [
        "age_means = [np.mean(segment['Age']) for segment in cust_segs]\n",
        "income_means = [np.mean(segment['Income']) for segment in cust_segs]\n",
        "debtincomeratio_means = [np.mean(segment['Debt_Income_Ratio']) for segment in cust_segs]"
      ],
      "execution_count": 25,
      "outputs": []
    },
    {
      "cell_type": "code",
      "metadata": {
        "id": "yc5KrBhDTJbb"
      },
      "source": [
        "summary_df = pd.DataFrame({'Cust Segment': ['seg1', 'seg2', 'seg3', 'seg4', 'seg5', 'seg6'], 'Age Means': age_means, \n",
        "                           'Income Means': income_means, 'Debt Income Ratio Means': debtincomeratio_means})"
      ],
      "execution_count": 26,
      "outputs": []
    },
    {
      "cell_type": "code",
      "metadata": {
        "colab": {
          "base_uri": "https://localhost:8080/",
          "height": 386
        },
        "id": "m0ricUKrTSw2",
        "outputId": "ee29eb2d-d441-427f-c80b-dd9e4b6e3930"
      },
      "source": [
        "plt.style.use('seaborn')\n",
        "plt.bar(summary_df['Cust Segment'], summary_df['Age Means'], color='orange')\n",
        "plt.xlabel('Age', labelpad=10)\n",
        "plt.title('Mean Ages', pad=10);"
      ],
      "execution_count": 27,
      "outputs": [
        {
          "output_type": "display_data",
          "data": {
            "image/png": "[encoded data removed]",
            "text/plain": [
              "<Figure size 576x396 with 1 Axes>"
            ]
          },
          "metadata": {}
        }
      ]
    },
    {
      "cell_type": "markdown",
      "metadata": {
        "id": "qNWq-zAcWsc_"
      },
      "source": [
        "Seg 3 and 4 have the highest mean age. "
      ]
    },
    {
      "cell_type": "code",
      "metadata": {
        "colab": {
          "base_uri": "https://localhost:8080/",
          "height": 366
        },
        "id": "cato1tN1TfSZ",
        "outputId": "f61daabe-4b2c-4d8b-f5d4-83cca925741d"
      },
      "source": [
        "plt.style.use('seaborn')\n",
        "plt.bar(summary_df['Cust Segment'], summary_df['Income Means'])\n",
        "plt.ylabel('Income', labelpad=10)\n",
        "plt.title('Mean Incomes', pad=10);"
      ],
      "execution_count": 28,
      "outputs": [
        {
          "output_type": "display_data",
          "data": {
            "image/png": "[encoded data removed]",
            "text/plain": [
              "<Figure size 576x396 with 1 Axes>"
            ]
          },
          "metadata": {}
        }
      ]
    },
    {
      "cell_type": "markdown",
      "metadata": {
        "id": "fXyuzmRJWkfZ"
      },
      "source": [
        "Seg 3 has the highest mean income compared to the rest of the segments."
      ]
    },
    {
      "cell_type": "code",
      "metadata": {
        "colab": {
          "base_uri": "https://localhost:8080/",
          "height": 366
        },
        "id": "gRrcCe8xThyw",
        "outputId": "3c975cc3-5784-4d84-9902-e3a64d3721db"
      },
      "source": [
        "plt.style.use('seaborn')\n",
        "plt.bar(summary_df['Cust Segment'], summary_df['Debt Income Ratio Means'], color='green')\n",
        "plt.ylabel('Debt: Income Ratio', labelpad=10)\n",
        "plt.title('Mean Debt', pad=10);"
      ],
      "execution_count": 29,
      "outputs": [
        {
          "output_type": "display_data",
          "data": {
            "image/png": "[encoded data removed]",
            "text/plain": [
              "<Figure size 576x396 with 1 Axes>"
            ]
          },
          "metadata": {}
        }
      ]
    },
    {
      "cell_type": "markdown",
      "metadata": {
        "id": "3msa_ChcWKYV"
      },
      "source": [
        "Seg 1 and 6 have the similar debt to income ratios. Seg 4 has the lowest debt to income ratio."
      ]
    },
    {
      "cell_type": "code",
      "metadata": {
        "id": "EmvQ8ur_TkQW"
      },
      "source": [
        ""
      ],
      "execution_count": 29,
      "outputs": []
    }
  ]
}